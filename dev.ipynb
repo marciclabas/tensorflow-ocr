{
 "cells": [
  {
   "cell_type": "code",
   "execution_count": 7,
   "metadata": {},
   "outputs": [],
   "source": [
    "import tf.records as tfr\n",
    "import tensorflow as tf\n",
    "from glob import glob"
   ]
  },
  {
   "cell_type": "code",
   "execution_count": 8,
   "metadata": {},
   "outputs": [],
   "source": [
    "schema = tfr.Dataset.read('records/mr').meta.schema_"
   ]
  },
  {
   "cell_type": "code",
   "execution_count": 9,
   "metadata": {},
   "outputs": [],
   "source": [
    "files = glob('records/mr/*.tfrecord.gz')"
   ]
  },
  {
   "cell_type": "code",
   "execution_count": 11,
   "metadata": {},
   "outputs": [],
   "source": [
    "from typing import Iterable, Mapping, Literal\n",
    "from tf.records import Field, parse\n",
    "\n",
    "def batched_read(\n",
    "  schema: Mapping[str, Field], filepaths: Iterable[str], *,\n",
    "  compression: Literal['GZIP', 'ZLIB'] | None = None,\n",
    "  keep_order: bool = True, batch_size: int = 16\n",
    ") -> tf.data.Dataset:\n",
    "  \"\"\"Parse a series of TFRecord files into a single dataset\"\"\"\n",
    "  ignore_order = tf.data.Options()\n",
    "  ignore_order.experimental_deterministic = keep_order\n",
    "  return (\n",
    "    tf.data.TFRecordDataset(filepaths, compression_type=compression, num_parallel_reads=tf.data.AUTOTUNE)\n",
    "    .with_options(ignore_order)\n",
    "    .batch(batch_size)\n",
    "    .map(parse(schema).batch, num_parallel_calls=tf.data.AUTOTUNE)\n",
    "  )\n",
    "\n",
    "ds = batched_read(schema, files, compression='GZIP', keep_order=False)"
   ]
  },
  {
   "cell_type": "code",
   "execution_count": 12,
   "metadata": {},
   "outputs": [
    {
     "name": "stdout",
     "output_type": "stream",
     "text": [
      "4000"
     ]
    }
   ],
   "source": [
    "for i, x in ds.enumerate():\n",
    "  if i % 1000 == 0:\n",
    "    print(f'\\r{i}', end='', flush=True)"
   ]
  }
 ],
 "metadata": {
  "kernelspec": {
   "display_name": ".venv",
   "language": "python",
   "name": "python3"
  },
  "language_info": {
   "codemirror_mode": {
    "name": "ipython",
    "version": 3
   },
   "file_extension": ".py",
   "mimetype": "text/x-python",
   "name": "python",
   "nbconvert_exporter": "python",
   "pygments_lexer": "ipython3",
   "version": "3.11.6"
  }
 },
 "nbformat": 4,
 "nbformat_minor": 2
}
