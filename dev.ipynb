{
 "cells": [
  {
   "cell_type": "code",
   "execution_count": 1,
   "metadata": {},
   "outputs": [
    {
     "name": "stderr",
     "output_type": "stream",
     "text": [
      "2024-06-10 20:20:46.786013: I external/local_tsl/tsl/cuda/cudart_stub.cc:32] Could not find cuda drivers on your machine, GPU will not be used.\n",
      "2024-06-10 20:20:46.793072: I external/local_tsl/tsl/cuda/cudart_stub.cc:32] Could not find cuda drivers on your machine, GPU will not be used.\n",
      "2024-06-10 20:20:46.959238: I tensorflow/core/platform/cpu_feature_guard.cc:210] This TensorFlow binary is optimized to use available CPU instructions in performance-critical operations.\n",
      "To enable the following instructions: AVX2 FMA, in other operations, rebuild TensorFlow with the appropriate compiler flags.\n",
      "2024-06-10 20:20:51.062342: W tensorflow/compiler/tf2tensorrt/utils/py_utils.cc:38] TF-TRT Warning: Could not find TensorRT\n"
     ]
    }
   ],
   "source": [
    "import tf_keras\n",
    "import tf.records as tfr\n",
    "import tf.ctc as ctc\n",
    "import moveread_ocr as mo"
   ]
  },
  {
   "cell_type": "code",
   "execution_count": 2,
   "metadata": {},
   "outputs": [
    {
     "name": "stderr",
     "output_type": "stream",
     "text": [
      "2024-06-10 20:20:54.226835: I external/local_xla/xla/stream_executor/cuda/cuda_executor.cc:984] could not open file to read NUMA node: /sys/bus/pci/devices/0000:02:00.0/numa_node\n",
      "Your kernel may have been built without NUMA support.\n",
      "2024-06-10 20:20:54.508147: W tensorflow/core/common_runtime/gpu/gpu_device.cc:2251] Cannot dlopen some GPU libraries. Please make sure the missing libraries mentioned above are installed properly if you would like to use GPU. Follow the guide at https://www.tensorflow.org/install/gpu for how to download and setup the required libraries for your platform.\n",
      "Skipping registering GPU devices...\n"
     ]
    }
   ],
   "source": [
    "char2num = tf_keras.layers.StringLookup(vocabulary=list(mo.VOCABULARY))\n",
    "num2char = tf_keras.layers.StringLookup(vocabulary=char2num.get_vocabulary(), invert=True)"
   ]
  },
  {
   "cell_type": "code",
   "execution_count": 3,
   "metadata": {},
   "outputs": [
    {
     "name": "stdout",
     "output_type": "stream",
     "text": [
      "WARNING:tensorflow:No training configuration found in the save file, so the model was *not* compiled. Compile it manually.\n"
     ]
    }
   ],
   "source": [
    "model = tf_keras.models.load_model('ocr_model.h5')"
   ]
  },
  {
   "cell_type": "code",
   "execution_count": 4,
   "metadata": {},
   "outputs": [],
   "source": [
    "ds = tfr.batched_read(mo.records.SCHEMA, ['data/tfrecords/0.tfrecord.gz'], compression='GZIP')"
   ]
  },
  {
   "cell_type": "code",
   "execution_count": 5,
   "metadata": {},
   "outputs": [],
   "source": [
    "for x in ds:\n",
    "  break"
   ]
  },
  {
   "cell_type": "code",
   "execution_count": 8,
   "metadata": {},
   "outputs": [
    {
     "name": "stderr",
     "output_type": "stream",
     "text": [
      "2024-06-10 20:21:36.265570: W external/local_tsl/tsl/framework/cpu_allocator_impl.cc:83] Allocation of 134217728 exceeds 10% of free system memory.\n",
      "2024-06-10 20:21:36.700851: W external/local_tsl/tsl/framework/cpu_allocator_impl.cc:83] Allocation of 134217728 exceeds 10% of free system memory.\n",
      "2024-06-10 20:21:37.257712: W external/local_tsl/tsl/framework/cpu_allocator_impl.cc:83] Allocation of 134217728 exceeds 10% of free system memory.\n",
      "2024-06-10 20:21:37.407255: W external/local_tsl/tsl/framework/cpu_allocator_impl.cc:83] Allocation of 33554432 exceeds 10% of free system memory.\n",
      "2024-06-10 20:21:37.453343: W external/local_tsl/tsl/framework/cpu_allocator_impl.cc:83] Allocation of 67108864 exceeds 10% of free system memory.\n"
     ]
    }
   ],
   "source": [
    "z = model(x['image'])"
   ]
  },
  {
   "cell_type": "code",
   "execution_count": 9,
   "metadata": {},
   "outputs": [],
   "source": [
    "preds, probs = ctc.beam_decode(z)"
   ]
  },
  {
   "cell_type": "code",
   "execution_count": 12,
   "metadata": {},
   "outputs": [
    {
     "data": {
      "text/plain": [
       "[SparseTensor(indices=tf.Tensor(\n",
       " [[ 0  0]\n",
       "  [ 0  1]\n",
       "  [ 0  2]\n",
       "  ...\n",
       "  [31 24]\n",
       "  [31 25]\n",
       "  [31 26]], shape=(756, 2), dtype=int64), values=tf.Tensor(\n",
       " [30  7 30 13 30  7 30 16 30 11 30 16 30 11 30 27 30 27 30 11 30 27 30 30\n",
       "   7 30  7 30 17 30 18 30 22 30 22 30 27 30 27 30 27 30 27 30 27 30 30  8\n",
       "  30  7 30 14 30 17 30 16 30 16 30 10 30 30  6 30  3 30 20 30  7 30 21 30\n",
       "  21 30 27 30 13 30  1 30  2 30 18 30 27 30 30  5 30 10 30  7 30  4 30 11\n",
       "  30 11 30  3 30  8 30 14 30 29 30  2 30 27 30 27 30 30  7 30  3 30 10 30\n",
       "  23 30  9 30 14 30 27 30 27 30  7 30  7 30 27 30 30  3 30 23 30 20 30  7\n",
       "  30 15 30 11 30 11 30 16 30  7 30 13 30 14 30  6 30  3 30 30  7 30  9 30\n",
       "   8 30 17 30  9 30 23 30  7 30  2 30 27 30 27 30 30  7 30  7 30 14 30 15\n",
       "  30 11 30 23 30 20 30 20 30 11 30 27 30 27 30 27 30 30  3 30  7 30  7 30\n",
       "  24 30  7 30 17 30 27 30 27 30 27 30 27 30 30 14 30  7 30 17 30 17 30 11\n",
       "  30 21 30  3 30 22 30  7 30 22 30 27 30 27 30 27 30 30 15 30 15 30 10 30\n",
       "   7 30 15 30  2 30 16 30 11 30 17 30 17 30 16 30 27 30 27 30 30  7 30  7\n",
       "  30  7 30 13 30 30 28 30 28 30  7 30 23 30 23 30 16 30  7 30 27 30 27 30\n",
       "  27 30 27 30 30  7 30  7 30 17 30 17 30 17 30 23 30 23 30 14 30 27 30 27\n",
       "  30  3 30 30 14 30 14 30  7 30 16 30  7 30 28 30 27 30 27 30 27 30 27 30\n",
       "  27 30 30  7 30  7 30  7 30 15 30 11 30 27 30 27 30 27 30 27 30 27 30 30\n",
       "   5 30 17 30 24 30  3 30 11 30 20 30  7 30  7 30 24 30 20 30 17 30 20 30\n",
       "  27 30 27 30 30 14 30 15 30  5 30  5 30  7 30  7 30 11 30 11 30 27 30 27\n",
       "  30 27 30 27 30 30  7 30  9 30  7 30  3 30 16 30 22 30 27 30 27 30 27 30\n",
       "  27 30 27 30 27 30 15 30 23 30 15 30 11 30 21 30 24 30 14 30 24 30  2 30\n",
       "  23 30 14 30 11 30  3 30  7 30 27 30 30  7 30  7 30 17 30 16 30  9 30 16\n",
       "  30  7 30 22 30 27 30 27 30 27 30 30  6 30  6 30 11 30  5 30 11 30 15 30\n",
       "  14 30 11 30 17 30  2 30 11 30  8 30  8 30  7 30 28 30  5 30 27 30 30  7\n",
       "  30  7 30 16 30 11 30 17 30 11 30 27 30 27 30 27 30  7 30  7 30  3 30 20\n",
       "  30  3 30 27 30  7 30  3 30  3 30 27 30 27 30 27 30 30 14 30  3 30 24 30\n",
       "   3 30 11 30 17 30 15 30 27 30 27 30 27 30 30  7 30 15 30 18 30 22 30 21\n",
       "  30 27 30 22 30 27 30 27 30 27 30 27 30 30  7 30  7 30  7 30 15 30 16 30\n",
       "  22 30 27 30 27 30 27 30 27 30 30  5 30  5 30  9 30 17 30  6 30 11 30 13\n",
       "  30 11 30 19 30 10 30 27 30 27 30 12 30 30 14 30  3 30 15 30  3 30  5 30\n",
       "  17 30 16 30 11 30 25 30  9 30  2 30 13 30 30  7 30  7 30 11 30  5 30 16\n",
       "  30 27 30 27 30  7 30 27 30 30  7 30 20 30 17 30 16 30  7 30 10 30 27 30\n",
       "   7 30  2 30 10 30  6 30  5 30 27 30], shape=(756,), dtype=int64), dense_shape=tf.Tensor([32 35], shape=(2,), dtype=int64))]"
      ]
     },
     "execution_count": 12,
     "metadata": {},
     "output_type": "execute_result"
    }
   ],
   "source": [
    "preds"
   ]
  },
  {
   "cell_type": "code",
   "execution_count": 10,
   "metadata": {},
   "outputs": [
    {
     "data": {
      "text/plain": [
       "['DgDmDgDpDkDpDkDADADkDAD',\n",
       " 'DgDgDqDrDvDvDADADADADAD',\n",
       " 'DhDgDnDqDpDpDjD',\n",
       " 'DfDcDtDgDuDuDADmDaDbDrDAD',\n",
       " 'DeDjDgDdDkDkDcDhDnDCDbDADAD',\n",
       " 'DgDcDjDwDiDnDADADgDgDAD',\n",
       " 'DcDwDtDgDoDkDkDpDgDmDnDfDcD',\n",
       " 'DgDiDhDqDiDwDgDbDADAD',\n",
       " 'DgDgDnDoDkDwDtDtDkDADADAD',\n",
       " 'DcDgDgDxDgDqDADADADAD',\n",
       " 'DnDgDqDqDkDuDcDvDgDvDADADAD',\n",
       " 'DoDoDjDgDoDbDpDkDqDqDpDADAD',\n",
       " 'DgDgDgDmD',\n",
       " 'DBDBDgDwDwDpDgDADADADAD',\n",
       " 'DgDgDqDqDqDwDwDnDADADcD',\n",
       " 'DnDnDgDpDgDBDADADADADAD',\n",
       " 'DgDgDgDoDkDADADADADAD',\n",
       " 'DeDqDxDcDkDtDgDgDxDtDqDtDADAD',\n",
       " 'DnDoDeDeDgDgDkDkDADADADAD',\n",
       " 'DgDiDgDcDpDvDADADADADADA',\n",
       " 'DoDwDoDkDuDxDnDxDbDwDnDkDcDgDAD',\n",
       " 'DgDgDqDpDiDpDgDvDADADAD',\n",
       " 'DfDfDkDeDkDoDnDkDqDbDkDhDhDgDBDeDAD',\n",
       " 'DgDgDpDkDqDkDADADA',\n",
       " 'DgDgDcDtDcDADgDcDcDADADAD',\n",
       " 'DnDcDxDcDkDqDoDADADAD',\n",
       " 'DgDoDrDvDuDADvDADADADAD',\n",
       " 'DgDgDgDoDpDvDADADADAD',\n",
       " 'DeDeDiDqDfDkDmDkDsDjDADADlD',\n",
       " 'DnDcDoDcDeDqDpDkDyDiDbDmD',\n",
       " 'DgDgDkDeDpDADADgDAD',\n",
       " 'DgDtDqDpDgDjDADgDbDjDfDeDAD']"
      ]
     },
     "execution_count": 10,
     "metadata": {},
     "output_type": "execute_result"
    }
   ],
   "source": [
    "mo.stringify_labels(preds[0], num2char)"
   ]
  }
 ],
 "metadata": {
  "kernelspec": {
   "display_name": ".venv",
   "language": "python",
   "name": "python3"
  },
  "language_info": {
   "codemirror_mode": {
    "name": "ipython",
    "version": 3
   },
   "file_extension": ".py",
   "mimetype": "text/x-python",
   "name": "python",
   "nbconvert_exporter": "python",
   "pygments_lexer": "ipython3",
   "version": "3.11.6"
  }
 },
 "nbformat": 4,
 "nbformat_minor": 2
}
