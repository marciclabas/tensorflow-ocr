{
 "cells": [
  {
   "cell_type": "code",
   "execution_count": 1,
   "metadata": {},
   "outputs": [
    {
     "name": "stderr",
     "output_type": "stream",
     "text": [
      "2024-06-10 21:04:15.692944: I external/local_tsl/tsl/cuda/cudart_stub.cc:32] Could not find cuda drivers on your machine, GPU will not be used.\n",
      "2024-06-10 21:04:15.848089: I external/local_tsl/tsl/cuda/cudart_stub.cc:32] Could not find cuda drivers on your machine, GPU will not be used.\n",
      "2024-06-10 21:04:16.494581: I tensorflow/core/platform/cpu_feature_guard.cc:210] This TensorFlow binary is optimized to use available CPU instructions in performance-critical operations.\n",
      "To enable the following instructions: AVX2 FMA, in other operations, rebuild TensorFlow with the appropriate compiler flags.\n",
      "2024-06-10 21:04:18.585397: W tensorflow/compiler/tf2tensorrt/utils/py_utils.cc:38] TF-TRT Warning: Could not find TensorRT\n"
     ]
    }
   ],
   "source": [
    "import tf.records as tfr\n",
    "from glob import glob\n",
    "import pure_cv as vc\n",
    "import json\n",
    "from collections import Counter\n",
    "from haskellian import iter as I\n",
    "import ramda as R\n",
    "import tensorflow as tf\n",
    "import moveread_ocr as mo\n",
    "import ocr_dataset as ods\n",
    "import lines_dataset as lds\n",
    "import files_dataset as fds\n",
    "import fs\n",
    "import os"
   ]
  },
  {
   "cell_type": "code",
   "execution_count": 2,
   "metadata": {},
   "outputs": [
    {
     "data": {
      "text/plain": [
       "413701"
      ]
     },
     "execution_count": 2,
     "metadata": {},
     "output_type": "execute_result"
    }
   ],
   "source": [
    "ods.len(ods.glob('data/ocr-dataset/*'))"
   ]
  },
  {
   "cell_type": "code",
   "execution_count": 3,
   "metadata": {},
   "outputs": [],
   "source": [
    "meta = tfr.Meta(files='*.tfrecord.gz', compression='GZIP', schema=mo.records.SCHEMA, num_samples=ods.len(ods.glob('data/ocr-dataset/*')))"
   ]
  },
  {
   "cell_type": "code",
   "execution_count": 4,
   "metadata": {},
   "outputs": [],
   "source": [
    "with open('data/tfrecords/meta.json', 'w') as f:\n",
    "    f.write(meta.model_dump_json(indent=2))"
   ]
  },
  {
   "cell_type": "code",
   "execution_count": 44,
   "metadata": {},
   "outputs": [
    {
     "name": "stdout",
     "output_type": "stream",
     "text": [
      "11"
     ]
    }
   ],
   "source": [
    "import cv2\n",
    "def serialize(batch):\n",
    "  img, lab = batch\n",
    "  tensor = mo.parse_img(vc.decode(img, flags=cv2.IMREAD_GRAYSCALE)[..., None], already_gray=True)\n",
    "  return tfr.serialize(mo.records.SCHEMA, image=tensor, label=tf.constant(lab.strip()))\n",
    "\n",
    "for i in range(1, 12):\n",
    "  print(f'\\r{i}', end='', flush=True)\n",
    "  ds = ods.Dataset.read(f'data/ocr-dataset/{i}')\n",
    "  tfr.write(ds.samples().map(serialize), f'data/tfrecords/{i}.tfrecord.gz', compression='GZIP')"
   ]
  }
 ],
 "metadata": {
  "kernelspec": {
   "display_name": ".venv",
   "language": "python",
   "name": "python3"
  },
  "language_info": {
   "codemirror_mode": {
    "name": "ipython",
    "version": 3
   },
   "file_extension": ".py",
   "mimetype": "text/x-python",
   "name": "python",
   "nbconvert_exporter": "python",
   "pygments_lexer": "ipython3",
   "version": "3.11.6"
  }
 },
 "nbformat": 4,
 "nbformat_minor": 2
}
