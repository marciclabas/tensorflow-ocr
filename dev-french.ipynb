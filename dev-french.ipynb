{
 "cells": [
  {
   "cell_type": "code",
   "execution_count": 1,
   "metadata": {},
   "outputs": [
    {
     "name": "stderr",
     "output_type": "stream",
     "text": [
      "2024-06-10 20:17:04.725520: I external/local_tsl/tsl/cuda/cudart_stub.cc:32] Could not find cuda drivers on your machine, GPU will not be used.\n",
      "2024-06-10 20:17:04.925505: I external/local_tsl/tsl/cuda/cudart_stub.cc:32] Could not find cuda drivers on your machine, GPU will not be used.\n",
      "2024-06-10 20:17:06.245570: I tensorflow/core/platform/cpu_feature_guard.cc:210] This TensorFlow binary is optimized to use available CPU instructions in performance-critical operations.\n",
      "To enable the following instructions: AVX2 FMA, in other operations, rebuild TensorFlow with the appropriate compiler flags.\n",
      "2024-06-10 20:17:09.027034: W tensorflow/compiler/tf2tensorrt/utils/py_utils.cc:38] TF-TRT Warning: Could not find TensorRT\n"
     ]
    }
   ],
   "source": [
    "import tf.records as tfr\n",
    "import ocr_dataset as ods\n",
    "import moveread_ocr as mo\n",
    "from haskellian import iter as I\n",
    "import pure_cv as vc\n",
    "import tensorflow as tf"
   ]
  },
  {
   "cell_type": "code",
   "execution_count": null,
   "metadata": {},
   "outputs": [],
   "source": [
    "names = ('test', 'train', 'validation')\n",
    "\n",
    "def read_samples(name):\n",
    "  path = f'data/written_name_{name}_v2.csv'\n",
    "  with open(path) as f:\n",
    "    for line in I.skip(1, f):\n",
    "      file, lab = line.strip().split(',')\n",
    "      yield f'data/{name}_v2/{name}/{file}', lab\n",
    "\n",
    "samples = I.flatmap(read_samples, names).sync()"
   ]
  },
  {
   "cell_type": "code",
   "execution_count": null,
   "metadata": {},
   "outputs": [],
   "source": [
    "paths, _ = I.unzip(samples)"
   ]
  },
  {
   "cell_type": "code",
   "execution_count": null,
   "metadata": {},
   "outputs": [],
   "source": [
    "def read_samples(samples):\n",
    "  for path, lab in samples:\n",
    "    with open(path, 'rb') as f:\n",
    "      data = f.read()\n",
    "    yield data, lab\n",
    "\n",
    "for i, batch in I.batch(50000, samples).enumerate():\n",
    "  print(f'\\r{i}', end='', flush=True)\n",
    "  ods.create_tar(f'data/ocr-dataset/{i}', list(read_samples(batch)), images_ext='jpg')"
   ]
  },
  {
   "cell_type": "code",
   "execution_count": 4,
   "metadata": {},
   "outputs": [],
   "source": [
    "def serialize(tup):\n",
    "  i, (img, lab) = tup\n",
    "  if i % 100 == 0:\n",
    "    print(f'\\r{i}', end='', flush=True)\n",
    "  tensor = mo.parse_img(vc.decode(img))\n",
    "  return tfr.serialize(mo.records.SCHEMA, image=tensor, label=tf.constant(lab.strip()))"
   ]
  },
  {
   "cell_type": "code",
   "execution_count": 5,
   "metadata": {},
   "outputs": [
    {
     "name": "stdout",
     "output_type": "stream",
     "text": [
      "4\n",
      "0"
     ]
    },
    {
     "name": "stderr",
     "output_type": "stream",
     "text": [
      "2024-06-10 20:18:43.805084: I external/local_xla/xla/stream_executor/cuda/cuda_executor.cc:984] could not open file to read NUMA node: /sys/bus/pci/devices/0000:02:00.0/numa_node\n",
      "Your kernel may have been built without NUMA support.\n",
      "2024-06-10 20:18:44.044786: W tensorflow/core/common_runtime/gpu/gpu_device.cc:2251] Cannot dlopen some GPU libraries. Please make sure the missing libraries mentioned above are installed properly if you would like to use GPU. Follow the guide at https://www.tensorflow.org/install/gpu for how to download and setup the required libraries for your platform.\n",
      "Skipping registering GPU devices...\n"
     ]
    },
    {
     "name": "stdout",
     "output_type": "stream",
     "text": [
      "49900\n",
      "5\n",
      "49900\n",
      "6\n",
      "49900\n",
      "7\n",
      "49900\n",
      "8\n",
      "13700\n"
     ]
    }
   ],
   "source": [
    "for i in range(4, 9):\n",
    "  print(i)\n",
    "  ds = ods.Dataset.read(f'data/ocr-dataset/{i}')\n",
    "  tfr.write(ds.samples().enumerate().map(serialize), f'data/tfrecords/{i}.tfrecord.gz', compression='GZIP')\n",
    "  print()"
   ]
  },
  {
   "cell_type": "code",
   "execution_count": null,
   "metadata": {},
   "outputs": [],
   "source": [
    "meta = tfr.Meta(files='*.tfrecord.gz', compression='GZIP', schema_=mo.records.SCHEMA, num_samples=ods.len(ods.glob('data/ocr-dataset/*')))"
   ]
  },
  {
   "cell_type": "code",
   "execution_count": null,
   "metadata": {},
   "outputs": [],
   "source": [
    "with open('data/tfrecords/meta.json', 'w') as f:\n",
    "  f.write(meta.model_dump_json(indent=2))"
   ]
  }
 ],
 "metadata": {
  "kernelspec": {
   "display_name": ".venv",
   "language": "python",
   "name": "python3"
  },
  "language_info": {
   "codemirror_mode": {
    "name": "ipython",
    "version": 3
   },
   "file_extension": ".py",
   "mimetype": "text/x-python",
   "name": "python",
   "nbconvert_exporter": "python",
   "pygments_lexer": "ipython3",
   "version": "3.11.6"
  }
 },
 "nbformat": 4,
 "nbformat_minor": 2
}
